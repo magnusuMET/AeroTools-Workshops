{
 "cells": [
  {
   "cell_type": "markdown",
   "id": "4d3e586d-bffd-4a5e-8681-02d70a9b9f51",
   "metadata": {},
   "source": [
    "# Using Aeroval\n"
   ]
  },
  {
   "cell_type": "markdown",
   "id": "62762089-34ce-4a0c-bf42-b83fe152eace",
   "metadata": {},
   "source": [
    "## Uploading to the dev server\n",
    "\n",
    "## Looking at aeroval\n",
    "\n",
    "## Uploading to production server"
   ]
  },
  {
   "cell_type": "code",
   "execution_count": null,
   "id": "ad19e7ea-c80f-4e78-96dd-9854a57d27db",
   "metadata": {},
   "outputs": [],
   "source": []
  }
 ],
 "metadata": {
  "kernelspec": {
   "display_name": "Python 3 (ipykernel)",
   "language": "python",
   "name": "python3"
  },
  "language_info": {
   "codemirror_mode": {
    "name": "ipython",
    "version": 3
   },
   "file_extension": ".py",
   "mimetype": "text/x-python",
   "name": "python",
   "nbconvert_exporter": "python",
   "pygments_lexer": "ipython3",
   "version": "3.11.6"
  }
 },
 "nbformat": 4,
 "nbformat_minor": 5
}
