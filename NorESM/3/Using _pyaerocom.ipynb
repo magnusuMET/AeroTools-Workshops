{
 "cells": [
  {
   "cell_type": "markdown",
   "id": "cc162ac1-c03f-43f8-bfb1-d399300873ec",
   "metadata": {},
   "source": [
    "# Using Pyaerocom\n",
    "\n",
    "## Using the AeroTools Module\n",
    "\n",
    "## Reading Models Data (Optional)\n",
    "\n",
    "## Reading Observations (Optional)\n",
    "\n",
    "## Colocation (Optional)"
   ]
  },
  {
   "cell_type": "code",
   "execution_count": null,
   "id": "d59a6dd5-d273-47a1-a993-13d556773d19",
   "metadata": {},
   "outputs": [],
   "source": []
  }
 ],
 "metadata": {
  "kernelspec": {
   "display_name": "Python 3 (ipykernel)",
   "language": "python",
   "name": "python3"
  },
  "language_info": {
   "codemirror_mode": {
    "name": "ipython",
    "version": 3
   },
   "file_extension": ".py",
   "mimetype": "text/x-python",
   "name": "python",
   "nbconvert_exporter": "python",
   "pygments_lexer": "ipython3",
   "version": "3.11.6"
  }
 },
 "nbformat": 4,
 "nbformat_minor": 5
}
